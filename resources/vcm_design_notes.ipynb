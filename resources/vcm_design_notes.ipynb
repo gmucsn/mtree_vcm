{
 "cells": [
  {
   "cell_type": "markdown",
   "id": "7b483b93",
   "metadata": {},
   "source": [
    "# Voluntary Contributions Mechanism (VCM)\n",
    "\n",
    "A VCM is a linear public goods problem where individuals decide how much to contribute to a public good."
   ]
  },
  {
   "cell_type": "markdown",
   "id": "ec57846c",
   "metadata": {},
   "source": [
    "# Basic Math for the VCM"
   ]
  },
  {
   "cell_type": "markdown",
   "id": "e797bd01",
   "metadata": {},
   "source": [
    "# mTree Implementation in Small Steps"
   ]
  },
  {
   "cell_type": "markdown",
   "id": "a2b9efad",
   "metadata": {},
   "source": [
    "# Parent Papers and Possible Narrative Extensions"
   ]
  }
 ],
 "metadata": {
  "kernelspec": {
   "display_name": "Python 3 (ipykernel)",
   "language": "python",
   "name": "python3"
  },
  "language_info": {
   "codemirror_mode": {
    "name": "ipython",
    "version": 3
   },
   "file_extension": ".py",
   "mimetype": "text/x-python",
   "name": "python",
   "nbconvert_exporter": "python",
   "pygments_lexer": "ipython3",
   "version": "3.9.7"
  },
  "toc": {
   "base_numbering": 1,
   "nav_menu": {},
   "number_sections": true,
   "sideBar": true,
   "skip_h1_title": false,
   "title_cell": "Table of Contents",
   "title_sidebar": "Contents",
   "toc_cell": false,
   "toc_position": {},
   "toc_section_display": true,
   "toc_window_display": false
  }
 },
 "nbformat": 4,
 "nbformat_minor": 5
}
