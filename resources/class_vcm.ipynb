{
 "cells": [
  {
   "cell_type": "markdown",
   "id": "8f890b37",
   "metadata": {},
   "source": [
    "# Design documentation for a voluntary contributions mechanism"
   ]
  },
  {
   "cell_type": "markdown",
   "id": "bf0ab967",
   "metadata": {},
   "source": [
    "## Config\n",
    "\n",
    "1. vcm_institution.VCMInstitution\n",
    "2. vcm_environment.VCMEnvironment\n",
    "3. vcm_agent.VCMAgent\n",
    "4. agent_endowments\n",
    "5. group_return\n",
    "6. private return\n",
    "7. num_periods\n",
    "8. period_length\n",
    "9. num_agents\n",
    "10. MES Names\n"
   ]
  },
  {
   "cell_type": "markdown",
   "id": "8bcd1bb3",
   "metadata": {},
   "source": [
    "## Environment\n",
    "\n",
    "1. For each period\n",
    "\n",
    "    a. send_message('start_round', vcm_institution.VCMInstitution, period)\n",
    "    \n",
    "    b. process 'round_results' from  vcm_institution.VCMInstitution\n",
    "        i. payload = (period, [endowments], [contributions], total_contributions, total_return, [payoffs])\n",
    "        \n",
    "    c. log_data (payload)\n",
    "    \n",
    "    d. send_message('results', vcm_agent.VCMAgent, results_payload)"
   ]
  },
  {
   "cell_type": "markdown",
   "id": "951965b0",
   "metadata": {},
   "source": [
    "## Institution\n",
    "\n",
    "1. process 'start_round' message\n",
    "    \n",
    "    a. for each agent\n",
    "\n",
    "        i. send_message('send_contribution', vcm_agent.VCMAgent, period) \n",
    "        \n",
    "    b.  process 'contribution' from agents\n",
    "    \n",
    "        i. save_contributions\n",
    "        \n",
    "    c.  Once we have all contributions\n",
    "    \n",
    "        i. process payoffs\n",
    "        \n",
    "        ii. send_message ('round_results', vcm_environment.VCMEnvironment, period) \n"
   ]
  },
  {
   "cell_type": "markdown",
   "id": "4717fa85",
   "metadata": {},
   "source": [
    "## Agent(s)\n",
    "\n",
    "1. process 'send_contribution' message\n",
    "\n",
    "       a. decide on a contribution using history and payoff info\n",
    "       \n",
    "       b. send_message('contribution', vcm_institution.VCMInstitution, [period, contribution])\n",
    "       \n",
    "2. process 'results' message\n",
    "\n",
    "        a. add results to history data structure "
   ]
  }
 ],
 "metadata": {
  "kernelspec": {
   "display_name": "Python 3 (ipykernel)",
   "language": "python",
   "name": "python3"
  },
  "language_info": {
   "codemirror_mode": {
    "name": "ipython",
    "version": 3
   },
   "file_extension": ".py",
   "mimetype": "text/x-python",
   "name": "python",
   "nbconvert_exporter": "python",
   "pygments_lexer": "ipython3",
   "version": "3.9.7"
  },
  "toc": {
   "base_numbering": 1,
   "nav_menu": {},
   "number_sections": true,
   "sideBar": true,
   "skip_h1_title": false,
   "title_cell": "Table of Contents",
   "title_sidebar": "Contents",
   "toc_cell": false,
   "toc_position": {},
   "toc_section_display": true,
   "toc_window_display": false
  }
 },
 "nbformat": 4,
 "nbformat_minor": 5
}
